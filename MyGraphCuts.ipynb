{
 "cells": [
  {
   "cell_type": "code",
   "execution_count": null,
   "metadata": {
    "collapsed": true
   },
   "outputs": [],
   "source": [
    "%matplotlib notebook"
   ]
  },
  {
   "cell_type": "code",
   "execution_count": null,
   "metadata": {
    "collapsed": false
   },
   "outputs": [],
   "source": [
    "# loading standard modules\n",
    "import numpy as np\n",
    "import matplotlib.pyplot as plt\n",
    "import maxflow\n",
    "import math\n",
    "\n",
    "from scipy import ndimage, signal\n",
    "from skimage import img_as_ubyte\n",
    "from skimage.color import rgb2grey\n",
    "# loading custom module (requires file asg1.py in the same directory as the notebook file)\n",
    "from asg1 import Figure, GraphCutsPresenter"
   ]
  },
  {
   "cell_type": "code",
   "execution_count": null,
   "metadata": {
    "collapsed": false
   },
   "outputs": [],
   "source": [
    "help(maxflow)"
   ]
  },
  {
   "cell_type": "code",
   "execution_count": null,
   "metadata": {
    "collapsed": true
   },
   "outputs": [],
   "source": [
    "class MyGraphCuts:\n",
    "    bgr_value = 0\n",
    "    obj_value = 1\n",
    "    none_value = 2\n",
    "    \n",
    "    def __init__(self, img):\n",
    "        self.fig = Figure()\n",
    "        self.pres = GraphCutsPresenter(img, self)\n",
    "        self.pres.connect_figure(self.fig)\n",
    "        \n",
    "        self.num_rows = img.shape[0]\n",
    "        self.num_cols = img.shape[1]\n",
    "        \n",
    "        \n",
    "        # build image-contrast weighted edge grid\n",
    "        dx = np.array([[ 0.0, 0.0, 0.0],\n",
    "                       [ 1.0, 0.0,-1.0],\n",
    "                       [ 0.0, 0.0, 0.0]])\n",
    "\n",
    "        dy = np.array([[ 0.0,-1.0, 0.0],\n",
    "                       [ 0.0, 0.0, 0.0],\n",
    "                       [ 0.0, 1.0, 0.0]])\n",
    "        \n",
    "        im_blurred = ndimage.gaussian_filter(img[:,:], sigma=1)\n",
    "        im_dx = signal.convolve2d(im_blurred, dx, boundary='symm', mode='same')\n",
    "        im_dy = signal.convolve2d(im_blurred, dy, boundary='symm', mode='same')\n",
    "        self.weight_grid = np.sqrt(im_dx**2 + im_dy**2)\n",
    "        \n",
    "        # 4-neighbors graph\n",
    "        self.neighbor_xs = [0, 1]\n",
    "        self.neighbor_ys = [1, 0]\n",
    "\n",
    "        # 8-neighbors graph\n",
    "        #self.neighbor_xs = [0, 1, 1,  1,  0, -1, -1, -1]\n",
    "        #self.neighbor_ys = [1, 1, 0, -1, -1, -1,  0,  1]\n",
    "\n",
    "    def run(self):\n",
    "        self.fig.show()\n",
    "\n",
    "    def compute_labels(self, seed_mask):   \n",
    "        num_rows = self.num_rows\n",
    "        num_cols = self.num_cols\n",
    "        \n",
    "        weight_grid = self.weight_grid\n",
    "        neighbor_xs = self.neighbor_xs\n",
    "        neighbor_ys = self.neighbor_ys\n",
    "        num_neighbors = len(neighbor_xs)\n",
    "        \n",
    "        # +---------+---------+\n",
    "        # |         |         |\n",
    "        # |   bgr   |  none   |\n",
    "        # |         |         |\n",
    "        # +---------+---------+\n",
    "        # |         |         |\n",
    "        # |  none   |   obj   |\n",
    "        # |         |         |\n",
    "        # +---------+---------+\n",
    "        label_mask = np.full((num_rows, num_cols), self.none_value, dtype='uint8')\n",
    "        label_mask[:num_rows // 2, :num_cols // 2] = self.bgr_value\n",
    "        label_mask[num_rows // 2:, num_cols // 2:] = self.obj_value\n",
    "        \n",
    "        g = maxflow.Graph[int](num_rows*num_cols, num_rows*num_cols)\n",
    "        g.add_nodes(num_rows*num_cols)\n",
    "        \n",
    "        # temp value\n",
    "        sigma = 1\n",
    "        \n",
    "        node = 0\n",
    "        node_d = {}\n",
    "        # find all seeds and connect them to appropriate terminal/neighbors\n",
    "        for i in range(num_rows):\n",
    "            for j in range(num_cols):\n",
    "                if (i,j) not in node_d:\n",
    "                    node_d[(i,j)] = node++    \n",
    "                \n",
    "                val = seed_mask[num_rows, num_cols]\n",
    "                \n",
    "                if (val == bgr_value or val == obj_value):\n",
    "                    # add \"prohibitively expensive\" terminal edge\n",
    "                    g.add_tedge(node_d[(i,j)], 0, 0)\n",
    "                else\n",
    "                    # connect edge with neighbors\n",
    "                    for k in xrange(num_neighbors):\n",
    "                        nx = x + neighbor_xs[k]\n",
    "                        ny = y + neighbor_ys[k]\n",
    "                        \n",
    "                        if 0 <= nx and nx < num_cols and 0 <= ny and ny < num_rows:\n",
    "                            if (nx, ny) not in node_d\n",
    "                                node_d[(nx, ny)] = node++\n",
    "                            # TODO: calculate edge weight\n",
    "                            g.add_edge(node_d[(i,j)], node_d[(nx, ny)], 0, 0)\n",
    "         \n",
    "        # source and sink\n",
    "        #g.add_tedge(0, 0, 0)\n",
    "        #g.add_tedge(0, 0 ,0)\n",
    "        \n",
    "        # calculate max flow\n",
    "        #g.maxflow()\n",
    "        \n",
    "        #g.get_segments()\n",
    "        \n",
    "        return label_mask"
   ]
  },
  {
   "cell_type": "markdown",
   "metadata": {},
   "source": [
    "### Notes about the basic graph cut interface:\n",
    "1. To provide the regional hard constraints (seeds) for object and background segments use left and right mouse clicks (mouse dragging works somewhat too). Use mouse wheel to change the brush size.\n",
    "2. The seed mask is built by the \"GraphCutsPresenter\". Each mouse release activates \"on_mouse_up\" function of the presenter, which asks the linked MyGraphCuts object to \"compute_labels\" for all pixels\n",
    "based on the provided seed mask.\n",
    "3. You should use \"PyMaxflow\" library (already imported into this notebook if you ran the second cell) to build a weighted graph and to compute a minimum s/t cut defining all pixel labels from the seeds as explain in topic 5."
   ]
  },
  {
   "cell_type": "code",
   "execution_count": null,
   "metadata": {
    "collapsed": false
   },
   "outputs": [],
   "source": [
    "img = plt.imread('images/canada.bmp')\n",
    "app = MyGraphCuts(img[:800,:800])\n",
    "app.run()"
   ]
  },
  {
   "cell_type": "code",
   "execution_count": null,
   "metadata": {
    "collapsed": true
   },
   "outputs": [],
   "source": []
  }
 ],
 "metadata": {
  "anaconda-cloud": {},
  "kernelspec": {
   "display_name": "Python [default]",
   "language": "python",
   "name": "python2"
  },
  "language_info": {
   "codemirror_mode": {
    "name": "ipython",
    "version": 2
   },
   "file_extension": ".py",
   "mimetype": "text/x-python",
   "name": "python",
   "nbconvert_exporter": "python",
   "pygments_lexer": "ipython2",
   "version": "2.7.12"
  }
 },
 "nbformat": 4,
 "nbformat_minor": 0
}
